{
 "cells": [
  {
   "cell_type": "code",
   "execution_count": 1,
   "metadata": {
    "executionInfo": {
     "elapsed": 1617,
     "status": "ok",
     "timestamp": 1714561931007,
     "user": {
      "displayName": "Scovia Achan",
      "userId": "00318295193192808960"
     },
     "user_tz": -120
    },
    "id": "kbM0K4x5kskj"
   },
   "outputs": [],
   "source": [
    "# import libraries\n",
    "import pandas as pd\n",
    "import numpy as np\n",
    "import matplotlib.pyplot as plt\n",
    "import matplotlib.dates as mdates\n",
    "import seaborn as sns\n",
    "from scipy.stats import ttest_ind"
   ]
  },
  {
   "cell_type": "markdown",
   "metadata": {
    "id": "f1ZVp6bl4Bsr"
   },
   "source": [
    "# Kigali, Rwanda Analysis"
   ]
  },
  {
   "cell_type": "code",
   "execution_count": 2,
   "metadata": {
    "colab": {
     "base_uri": "https://localhost:8080/",
     "height": 206
    },
    "executionInfo": {
     "elapsed": 1586,
     "status": "ok",
     "timestamp": 1714561932591,
     "user": {
      "displayName": "Scovia Achan",
      "userId": "00318295193192808960"
     },
     "user_tz": -120
    },
    "id": "t_R9zWi2kPLV",
    "outputId": "aca8f42c-834a-43df-8e51-39d3efb3aeeb"
   },
   "outputs": [
    {
     "data": {
      "text/html": [
       "<div>\n",
       "<style scoped>\n",
       "    .dataframe tbody tr th:only-of-type {\n",
       "        vertical-align: middle;\n",
       "    }\n",
       "\n",
       "    .dataframe tbody tr th {\n",
       "        vertical-align: top;\n",
       "    }\n",
       "\n",
       "    .dataframe thead th {\n",
       "        text-align: right;\n",
       "    }\n",
       "</style>\n",
       "<table border=\"1\" class=\"dataframe\">\n",
       "  <thead>\n",
       "    <tr style=\"text-align: right;\">\n",
       "      <th></th>\n",
       "      <th>Date</th>\n",
       "      <th>PM25</th>\n",
       "    </tr>\n",
       "  </thead>\n",
       "  <tbody>\n",
       "    <tr>\n",
       "      <th>0</th>\n",
       "      <td>2024-04-01</td>\n",
       "      <td>119</td>\n",
       "    </tr>\n",
       "    <tr>\n",
       "      <th>1</th>\n",
       "      <td>2024-04-02</td>\n",
       "      <td>119</td>\n",
       "    </tr>\n",
       "    <tr>\n",
       "      <th>2</th>\n",
       "      <td>2024-04-03</td>\n",
       "      <td>58</td>\n",
       "    </tr>\n",
       "    <tr>\n",
       "      <th>3</th>\n",
       "      <td>2024-04-04</td>\n",
       "      <td>104</td>\n",
       "    </tr>\n",
       "    <tr>\n",
       "      <th>4</th>\n",
       "      <td>2024-04-05</td>\n",
       "      <td>69</td>\n",
       "    </tr>\n",
       "  </tbody>\n",
       "</table>\n",
       "</div>"
      ],
      "text/plain": [
       "        Date  PM25\n",
       "0 2024-04-01   119\n",
       "1 2024-04-02   119\n",
       "2 2024-04-03    58\n",
       "3 2024-04-04   104\n",
       "4 2024-04-05    69"
      ]
     },
     "execution_count": 2,
     "metadata": {},
     "output_type": "execute_result"
    }
   ],
   "source": [
    "file_path = \"kigali-us embassy-air-quality.csv\"\n",
    "# read rwanda_data\n",
    "rwanda_data = pd.read_csv(file_path, skipinitialspace=True)\n",
    "\n",
    "# convert date to datetime\n",
    "rwanda_data[\"date\"] = pd.to_datetime(rwanda_data[\"date\"])\n",
    "rwanda_data = rwanda_data.rename(columns={\"date\":\"Date\", \"pm25\":\"PM25\"})\n",
    "\n",
    "rwanda_data.head()"
   ]
  },
  {
   "cell_type": "code",
   "execution_count": 3,
   "metadata": {
    "colab": {
     "base_uri": "https://localhost:8080/",
     "height": 206
    },
    "executionInfo": {
     "elapsed": 13,
     "status": "ok",
     "timestamp": 1714561932591,
     "user": {
      "displayName": "Scovia Achan",
      "userId": "00318295193192808960"
     },
     "user_tz": -120
    },
    "id": "xSnIJkmKkv-1",
    "outputId": "822eae25-b108-44a5-e43f-dd468d6de4bb"
   },
   "outputs": [
    {
     "data": {
      "text/html": [
       "<div>\n",
       "<style scoped>\n",
       "    .dataframe tbody tr th:only-of-type {\n",
       "        vertical-align: middle;\n",
       "    }\n",
       "\n",
       "    .dataframe tbody tr th {\n",
       "        vertical-align: top;\n",
       "    }\n",
       "\n",
       "    .dataframe thead th {\n",
       "        text-align: right;\n",
       "    }\n",
       "</style>\n",
       "<table border=\"1\" class=\"dataframe\">\n",
       "  <thead>\n",
       "    <tr style=\"text-align: right;\">\n",
       "      <th></th>\n",
       "      <th>Date</th>\n",
       "      <th>PM25</th>\n",
       "      <th>Day Name</th>\n",
       "    </tr>\n",
       "  </thead>\n",
       "  <tbody>\n",
       "    <tr>\n",
       "      <th>585</th>\n",
       "      <td>2022-03-27</td>\n",
       "      <td>90</td>\n",
       "      <td>Sunday</td>\n",
       "    </tr>\n",
       "    <tr>\n",
       "      <th>586</th>\n",
       "      <td>2022-03-28</td>\n",
       "      <td>84</td>\n",
       "      <td>Monday</td>\n",
       "    </tr>\n",
       "    <tr>\n",
       "      <th>587</th>\n",
       "      <td>2022-03-29</td>\n",
       "      <td>92</td>\n",
       "      <td>Tuesday</td>\n",
       "    </tr>\n",
       "    <tr>\n",
       "      <th>588</th>\n",
       "      <td>2022-03-30</td>\n",
       "      <td>64</td>\n",
       "      <td>Wednesday</td>\n",
       "    </tr>\n",
       "    <tr>\n",
       "      <th>589</th>\n",
       "      <td>2022-03-31</td>\n",
       "      <td>85</td>\n",
       "      <td>Thursday</td>\n",
       "    </tr>\n",
       "  </tbody>\n",
       "</table>\n",
       "</div>"
      ],
      "text/plain": [
       "          Date  PM25   Day Name\n",
       "585 2022-03-27    90     Sunday\n",
       "586 2022-03-28    84     Monday\n",
       "587 2022-03-29    92    Tuesday\n",
       "588 2022-03-30    64  Wednesday\n",
       "589 2022-03-31    85   Thursday"
      ]
     },
     "execution_count": 3,
     "metadata": {},
     "output_type": "execute_result"
    }
   ],
   "source": [
    "# convert date to day names\n",
    "rwanda_data[\"Day Name\"] = rwanda_data[\"Date\"].dt.day_name()\n",
    "rwanda_data.tail()"
   ]
  },
  {
   "cell_type": "code",
   "execution_count": 4,
   "metadata": {
    "colab": {
     "base_uri": "https://localhost:8080/",
     "height": 206
    },
    "executionInfo": {
     "elapsed": 12,
     "status": "ok",
     "timestamp": 1714561932592,
     "user": {
      "displayName": "Scovia Achan",
      "userId": "00318295193192808960"
     },
     "user_tz": -120
    },
    "id": "CBNL_aBBgka3",
    "outputId": "8439734e-99ca-414a-8112-39585a7fb350"
   },
   "outputs": [
    {
     "data": {
      "text/html": [
       "<div>\n",
       "<style scoped>\n",
       "    .dataframe tbody tr th:only-of-type {\n",
       "        vertical-align: middle;\n",
       "    }\n",
       "\n",
       "    .dataframe tbody tr th {\n",
       "        vertical-align: top;\n",
       "    }\n",
       "\n",
       "    .dataframe thead th {\n",
       "        text-align: right;\n",
       "    }\n",
       "</style>\n",
       "<table border=\"1\" class=\"dataframe\">\n",
       "  <thead>\n",
       "    <tr style=\"text-align: right;\">\n",
       "      <th></th>\n",
       "      <th>Date</th>\n",
       "      <th>PM25</th>\n",
       "      <th>Day Name</th>\n",
       "      <th>Week of Month</th>\n",
       "    </tr>\n",
       "  </thead>\n",
       "  <tbody>\n",
       "    <tr>\n",
       "      <th>20</th>\n",
       "      <td>2024-04-21</td>\n",
       "      <td>78</td>\n",
       "      <td>Sunday</td>\n",
       "      <td>3</td>\n",
       "    </tr>\n",
       "    <tr>\n",
       "      <th>21</th>\n",
       "      <td>2024-04-22</td>\n",
       "      <td>71</td>\n",
       "      <td>Monday</td>\n",
       "      <td>4</td>\n",
       "    </tr>\n",
       "    <tr>\n",
       "      <th>22</th>\n",
       "      <td>2024-04-23</td>\n",
       "      <td>85</td>\n",
       "      <td>Tuesday</td>\n",
       "      <td>4</td>\n",
       "    </tr>\n",
       "    <tr>\n",
       "      <th>23</th>\n",
       "      <td>2024-04-24</td>\n",
       "      <td>73</td>\n",
       "      <td>Wednesday</td>\n",
       "      <td>4</td>\n",
       "    </tr>\n",
       "    <tr>\n",
       "      <th>24</th>\n",
       "      <td>2024-04-25</td>\n",
       "      <td>134</td>\n",
       "      <td>Thursday</td>\n",
       "      <td>4</td>\n",
       "    </tr>\n",
       "  </tbody>\n",
       "</table>\n",
       "</div>"
      ],
      "text/plain": [
       "         Date  PM25   Day Name  Week of Month\n",
       "20 2024-04-21    78     Sunday              3\n",
       "21 2024-04-22    71     Monday              4\n",
       "22 2024-04-23    85    Tuesday              4\n",
       "23 2024-04-24    73  Wednesday              4\n",
       "24 2024-04-25   134   Thursday              4"
      ]
     },
     "execution_count": 4,
     "metadata": {},
     "output_type": "execute_result"
    }
   ],
   "source": [
    "# calculate week of the month the day lies in\n",
    "rwanda_data[\"Week of Month\"] = rwanda_data[\"Date\"].dt.day.apply(lambda day: (day - 1) // 7 + 1)\n",
    "rwanda_data = rwanda_data.sort_values(by=\"Date\")\n",
    "rwanda_data.tail()"
   ]
  },
  {
   "cell_type": "code",
   "execution_count": 5,
   "metadata": {
    "colab": {
     "base_uri": "https://localhost:8080/"
    },
    "executionInfo": {
     "elapsed": 11,
     "status": "ok",
     "timestamp": 1714561932592,
     "user": {
      "displayName": "Scovia Achan",
      "userId": "00318295193192808960"
     },
     "user_tz": -120
    },
    "id": "9dmR8toDxgn5",
    "outputId": "83380ad3-8c48-482b-981a-1f670e6f5922"
   },
   "outputs": [
    {
     "data": {
      "text/plain": [
       "5"
      ]
     },
     "execution_count": 5,
     "metadata": {},
     "output_type": "execute_result"
    }
   ],
   "source": [
    "rwanda_data[\"Week of Month\"].nunique()"
   ]
  },
  {
   "cell_type": "code",
   "execution_count": 6,
   "metadata": {
    "executionInfo": {
     "elapsed": 8,
     "status": "ok",
     "timestamp": 1714561932592,
     "user": {
      "displayName": "Scovia Achan",
      "userId": "00318295193192808960"
     },
     "user_tz": -120
    },
    "id": "515nDewElNia"
   },
   "outputs": [],
   "source": [
    "# set date as the index\n",
    "rwanda_data = rwanda_data.set_index(\"Date\")"
   ]
  },
  {
   "cell_type": "code",
   "execution_count": 7,
   "metadata": {
    "colab": {
     "base_uri": "https://localhost:8080/"
    },
    "executionInfo": {
     "elapsed": 8,
     "status": "ok",
     "timestamp": 1714561932592,
     "user": {
      "displayName": "Scovia Achan",
      "userId": "00318295193192808960"
     },
     "user_tz": -120
    },
    "id": "lq42hnI0eSHM",
    "outputId": "269bb897-6116-4cb7-fbaf-9fb8c33b2a4b"
   },
   "outputs": [
    {
     "data": {
      "text/plain": [
       "DatetimeIndex([], dtype='datetime64[ns]', freq=None)"
      ]
     },
     "execution_count": 7,
     "metadata": {},
     "output_type": "execute_result"
    }
   ],
   "source": [
    "# check for missing date values in the df\n",
    "pd.date_range(start = '2024-04-01', end = '2022-03-31' ).difference(rwanda_data.index)"
   ]
  },
  {
   "cell_type": "code",
   "execution_count": 8,
   "metadata": {
    "executionInfo": {
     "elapsed": 2,
     "status": "ok",
     "timestamp": 1714561933906,
     "user": {
      "displayName": "Scovia Achan",
      "userId": "00318295193192808960"
     },
     "user_tz": -120
    },
    "id": "uHT7zM4F28X-"
   },
   "outputs": [],
   "source": [
    "rwanda_data = rwanda_data.reset_index()"
   ]
  },
  {
   "cell_type": "markdown",
   "metadata": {
    "id": "tjNsVPqpYifQ"
   },
   "source": [
    "### Mode and central tendency"
   ]
  },
  {
   "cell_type": "code",
   "execution_count": 9,
   "metadata": {
    "colab": {
     "base_uri": "https://localhost:8080/"
    },
    "executionInfo": {
     "elapsed": 5,
     "status": "ok",
     "timestamp": 1714561935771,
     "user": {
      "displayName": "Scovia Achan",
      "userId": "00318295193192808960"
     },
     "user_tz": -120
    },
    "id": "GDVmmogFRPIa",
    "outputId": "3960face-7226-456a-c080-678624f4f489"
   },
   "outputs": [
    {
     "name": "stdout",
     "output_type": "stream",
     "text": [
      "Rwanda pm2.5 Mode:\n",
      "0    109\n",
      "1    111\n",
      "Name: PM25, dtype: int64\n",
      "Rwanda pm2.5 Mean: 113.33050847457628\n",
      "Rwanda pm2.5 Maximum: 173\n",
      "Rwanda pm2.5 Minimum: 43\n"
     ]
    }
   ],
   "source": [
    "mode = rwanda_data[\"PM25\"].mode()\n",
    "print(f\"Rwanda pm2.5 Mode:\\n{mode}\")\n",
    "\n",
    "mean_value = rwanda_data[\"PM25\"].mean()\n",
    "print(f\"Rwanda pm2.5 Mean: {mean_value}\")\n",
    "\n",
    "max_value = rwanda_data[\"PM25\"].max()\n",
    "print(f\"Rwanda pm2.5 Maximum: {max_value}\")\n",
    "\n",
    "min_value = rwanda_data[\"PM25\"].min()\n",
    "print(f\"Rwanda pm2.5 Minimum: {min_value}\")"
   ]
  },
  {
   "cell_type": "code",
   "execution_count": 10,
   "metadata": {
    "colab": {
     "base_uri": "https://localhost:8080/",
     "height": 452
    },
    "executionInfo": {
     "elapsed": 476,
     "status": "ok",
     "timestamp": 1714561936794,
     "user": {
      "displayName": "Scovia Achan",
      "userId": "00318295193192808960"
     },
     "user_tz": -120
    },
    "id": "qG287uZyv2rX",
    "outputId": "a4a8c378-fe6e-4cb7-bca9-5fab189f5b96"
   },
   "outputs": [
    {
     "data": {
      "image/png": "[encoded data removed]",
      "text/plain": [
       "<Figure size 640x480 with 1 Axes>"
      ]
     },
     "metadata": {},
     "output_type": "display_data"
    }
   ],
   "source": [
    "# histogram to visualize distribution\n",
    "\n",
    "from matplotlib import pyplot as plt\n",
    "rwanda_data['PM25'].plot(kind='hist', bins=20, title='PM25')\n",
    "plt.gca().spines[['top', 'right',]].set_visible(True)"
   ]
  },
  {
   "cell_type": "code",
   "execution_count": 11,
   "metadata": {
    "executionInfo": {
     "elapsed": 5,
     "status": "ok",
     "timestamp": 1714561937944,
     "user": {
      "displayName": "Scovia Achan",
      "userId": "00318295193192808960"
     },
     "user_tz": -120
    },
    "id": "247JcJDpi63r"
   },
   "outputs": [],
   "source": [
    "# first and 3rd sundays\n",
    "carfree_sunday_data = rwanda_data[(rwanda_data[\"Day Name\"] == \"Sunday\") & (rwanda_data[\"Week of Month\"]==1) | (rwanda_data[\"Day Name\"] == \"Sunday\") & (rwanda_data[\"Week of Month\"]==3)]\n",
    "\n",
    "carfree_sunday_data = carfree_sunday_data.reset_index(drop=True)"
   ]
  },
  {
   "cell_type": "code",
   "execution_count": 12,
   "metadata": {
    "colab": {
     "base_uri": "https://localhost:8080/"
    },
    "executionInfo": {
     "elapsed": 7,
     "status": "ok",
     "timestamp": 1714561938323,
     "user": {
      "displayName": "Scovia Achan",
      "userId": "00318295193192808960"
     },
     "user_tz": -120
    },
    "id": "C0xqIjF6wb9b",
    "outputId": "ac28de90-0e1e-4d82-b106-fc6e063ef323"
   },
   "outputs": [
    {
     "name": "stdout",
     "output_type": "stream",
     "text": [
      "Car free sundays: 38\n"
     ]
    }
   ],
   "source": [
    "print(f\"Car free sundays: {len(carfree_sunday_data)}\")"
   ]
  },
  {
   "cell_type": "code",
   "execution_count": null,
   "metadata": {
    "executionInfo": {
     "elapsed": 5,
     "status": "ok",
     "timestamp": 1714561938323,
     "user": {
      "displayName": "Scovia Achan",
      "userId": "00318295193192808960"
     },
     "user_tz": -120
    },
    "id": "4j1qW6srsTN7"
   },
   "outputs": [],
   "source": []
  },
  {
   "cell_type": "code",
   "execution_count": 13,
   "metadata": {
    "colab": {
     "base_uri": "https://localhost:8080/",
     "height": 300
    },
    "executionInfo": {
     "elapsed": 5,
     "status": "ok",
     "timestamp": 1714561939144,
     "user": {
      "displayName": "Scovia Achan",
      "userId": "00318295193192808960"
     },
     "user_tz": -120
    },
    "id": "3V7jwtookLEr",
    "outputId": "ecc04978-0958-4628-d86c-da70c0b688c5"
   },
   "outputs": [
    {
     "data": {
      "text/html": [
       "<div>\n",
       "<style scoped>\n",
       "    .dataframe tbody tr th:only-of-type {\n",
       "        vertical-align: middle;\n",
       "    }\n",
       "\n",
       "    .dataframe tbody tr th {\n",
       "        vertical-align: top;\n",
       "    }\n",
       "\n",
       "    .dataframe thead th {\n",
       "        text-align: right;\n",
       "    }\n",
       "</style>\n",
       "<table border=\"1\" class=\"dataframe\">\n",
       "  <thead>\n",
       "    <tr style=\"text-align: right;\">\n",
       "      <th></th>\n",
       "      <th>Date</th>\n",
       "      <th>PM25</th>\n",
       "      <th>Day Name</th>\n",
       "      <th>Week of Month</th>\n",
       "    </tr>\n",
       "  </thead>\n",
       "  <tbody>\n",
       "    <tr>\n",
       "      <th>0</th>\n",
       "      <td>2022-03-13</td>\n",
       "      <td>117</td>\n",
       "      <td>Sunday</td>\n",
       "      <td>2</td>\n",
       "    </tr>\n",
       "    <tr>\n",
       "      <th>1</th>\n",
       "      <td>2022-03-27</td>\n",
       "      <td>90</td>\n",
       "      <td>Sunday</td>\n",
       "      <td>4</td>\n",
       "    </tr>\n",
       "    <tr>\n",
       "      <th>2</th>\n",
       "      <td>2022-04-10</td>\n",
       "      <td>111</td>\n",
       "      <td>Sunday</td>\n",
       "      <td>2</td>\n",
       "    </tr>\n",
       "    <tr>\n",
       "      <th>3</th>\n",
       "      <td>2022-04-24</td>\n",
       "      <td>43</td>\n",
       "      <td>Sunday</td>\n",
       "      <td>4</td>\n",
       "    </tr>\n",
       "    <tr>\n",
       "      <th>4</th>\n",
       "      <td>2022-05-08</td>\n",
       "      <td>100</td>\n",
       "      <td>Sunday</td>\n",
       "      <td>2</td>\n",
       "    </tr>\n",
       "    <tr>\n",
       "      <th>5</th>\n",
       "      <td>2022-05-22</td>\n",
       "      <td>119</td>\n",
       "      <td>Sunday</td>\n",
       "      <td>4</td>\n",
       "    </tr>\n",
       "    <tr>\n",
       "      <th>6</th>\n",
       "      <td>2022-05-29</td>\n",
       "      <td>73</td>\n",
       "      <td>Sunday</td>\n",
       "      <td>5</td>\n",
       "    </tr>\n",
       "    <tr>\n",
       "      <th>7</th>\n",
       "      <td>2022-06-12</td>\n",
       "      <td>113</td>\n",
       "      <td>Sunday</td>\n",
       "      <td>2</td>\n",
       "    </tr>\n",
       "  </tbody>\n",
       "</table>\n",
       "</div>"
      ],
      "text/plain": [
       "        Date  PM25 Day Name  Week of Month\n",
       "0 2022-03-13   117   Sunday              2\n",
       "1 2022-03-27    90   Sunday              4\n",
       "2 2022-04-10   111   Sunday              2\n",
       "3 2022-04-24    43   Sunday              4\n",
       "4 2022-05-08   100   Sunday              2\n",
       "5 2022-05-22   119   Sunday              4\n",
       "6 2022-05-29    73   Sunday              5\n",
       "7 2022-06-12   113   Sunday              2"
      ]
     },
     "execution_count": 13,
     "metadata": {},
     "output_type": "execute_result"
    }
   ],
   "source": [
    "# other sundays\n",
    "sunday_data_non_carfree = rwanda_data[(rwanda_data[\"Day Name\"] == \"Sunday\") & (rwanda_data[\"Week of Month\"] !=1) & (rwanda_data[\"Day Name\"] == \"Sunday\") & (rwanda_data[\"Week of Month\"] !=3)]\n",
    "\n",
    "sunday_data_non_carfree = sunday_data_non_carfree.reset_index(drop=True)\n",
    "\n",
    "sunday_data_non_carfree.head(8)"
   ]
  },
  {
   "cell_type": "code",
   "execution_count": 14,
   "metadata": {
    "colab": {
     "base_uri": "https://localhost:8080/"
    },
    "executionInfo": {
     "elapsed": 4,
     "status": "ok",
     "timestamp": 1714561939732,
     "user": {
      "displayName": "Scovia Achan",
      "userId": "00318295193192808960"
     },
     "user_tz": -120
    },
    "id": "YS1r7rD8wOig",
    "outputId": "1b5d98f7-c70b-4c0b-8b82-0dbdb84c74ec"
   },
   "outputs": [
    {
     "name": "stdout",
     "output_type": "stream",
     "text": [
      "Non-car free sundays: 45\n"
     ]
    }
   ],
   "source": [
    "print(f\"Non-car free sundays: {len(sunday_data_non_carfree)}\")"
   ]
  },
  {
   "cell_type": "markdown",
   "metadata": {
    "id": "7o7Kv-1Ox9Wa"
   },
   "source": [
    "### Mondays after car free Sundays"
   ]
  },
  {
   "cell_type": "code",
   "execution_count": 15,
   "metadata": {
    "colab": {
     "base_uri": "https://localhost:8080/",
     "height": 206
    },
    "executionInfo": {
     "elapsed": 3,
     "status": "ok",
     "timestamp": 1714561942912,
     "user": {
      "displayName": "Scovia Achan",
      "userId": "00318295193192808960"
     },
     "user_tz": -120
    },
    "id": "gVfgRxZRlxoT",
    "outputId": "fd0342ec-b931-4cfe-c38b-3ce5c5a9f6a9"
   },
   "outputs": [
    {
     "data": {
      "text/html": [
       "<div>\n",
       "<style scoped>\n",
       "    .dataframe tbody tr th:only-of-type {\n",
       "        vertical-align: middle;\n",
       "    }\n",
       "\n",
       "    .dataframe tbody tr th {\n",
       "        vertical-align: top;\n",
       "    }\n",
       "\n",
       "    .dataframe thead th {\n",
       "        text-align: right;\n",
       "    }\n",
       "</style>\n",
       "<table border=\"1\" class=\"dataframe\">\n",
       "  <thead>\n",
       "    <tr style=\"text-align: right;\">\n",
       "      <th></th>\n",
       "      <th>Date</th>\n",
       "      <th>PM25</th>\n",
       "      <th>Day Name</th>\n",
       "      <th>Week of Month</th>\n",
       "    </tr>\n",
       "  </thead>\n",
       "  <tbody>\n",
       "    <tr>\n",
       "      <th>0</th>\n",
       "      <td>2022-02-28</td>\n",
       "      <td>87</td>\n",
       "      <td>Monday</td>\n",
       "      <td>4</td>\n",
       "    </tr>\n",
       "    <tr>\n",
       "      <th>1</th>\n",
       "      <td>2022-03-14</td>\n",
       "      <td>113</td>\n",
       "      <td>Monday</td>\n",
       "      <td>2</td>\n",
       "    </tr>\n",
       "    <tr>\n",
       "      <th>2</th>\n",
       "      <td>2022-03-28</td>\n",
       "      <td>84</td>\n",
       "      <td>Monday</td>\n",
       "      <td>4</td>\n",
       "    </tr>\n",
       "    <tr>\n",
       "      <th>3</th>\n",
       "      <td>2022-04-11</td>\n",
       "      <td>94</td>\n",
       "      <td>Monday</td>\n",
       "      <td>2</td>\n",
       "    </tr>\n",
       "    <tr>\n",
       "      <th>4</th>\n",
       "      <td>2022-04-25</td>\n",
       "      <td>109</td>\n",
       "      <td>Monday</td>\n",
       "      <td>4</td>\n",
       "    </tr>\n",
       "  </tbody>\n",
       "</table>\n",
       "</div>"
      ],
      "text/plain": [
       "        Date  PM25 Day Name  Week of Month\n",
       "0 2022-02-28    87   Monday              4\n",
       "1 2022-03-14   113   Monday              2\n",
       "2 2022-03-28    84   Monday              4\n",
       "3 2022-04-11    94   Monday              2\n",
       "4 2022-04-25   109   Monday              4"
      ]
     },
     "execution_count": 15,
     "metadata": {},
     "output_type": "execute_result"
    }
   ],
   "source": [
    "Monday_data = rwanda_data[(rwanda_data[\"Day Name\"] == \"Monday\") & (rwanda_data[\"Week of Month\"] ==2) | (rwanda_data[\"Day Name\"] == \"Monday\") & (rwanda_data[\"Week of Month\"] ==4)]\n",
    "\n",
    "Monday_data=Monday_data.reset_index(drop=True)\n",
    "Monday_data.head()"
   ]
  },
  {
   "cell_type": "markdown",
   "metadata": {
    "id": "4elkiQMiz-3t"
   },
   "source": [
    "### Normal Mondays"
   ]
  },
  {
   "cell_type": "code",
   "execution_count": 16,
   "metadata": {
    "executionInfo": {
     "elapsed": 10,
     "status": "ok",
     "timestamp": 1714561944176,
     "user": {
      "displayName": "Scovia Achan",
      "userId": "00318295193192808960"
     },
     "user_tz": -120
    },
    "id": "wLaM8OhGr8kq"
   },
   "outputs": [],
   "source": [
    "Monday_usual = rwanda_data[(rwanda_data[\"Day Name\"] == \"Monday\") & (rwanda_data[\"Week of Month\"] !=2) & (rwanda_data[\"Day Name\"] == \"Monday\") & (rwanda_data[\"Week of Month\"] !=4)]\n",
    "\n",
    "Monday_usual = Monday_usual.reset_index(drop=True)\n"
   ]
  },
  {
   "cell_type": "code",
   "execution_count": 17,
   "metadata": {
    "colab": {
     "base_uri": "https://localhost:8080/",
     "height": 300
    },
    "executionInfo": {
     "elapsed": 8,
     "status": "ok",
     "timestamp": 1714561944176,
     "user": {
      "displayName": "Scovia Achan",
      "userId": "00318295193192808960"
     },
     "user_tz": -120
    },
    "id": "hXCtTFYh0Rsk",
    "outputId": "47320d60-fecc-4547-824b-92180aab5a7b"
   },
   "outputs": [
    {
     "data": {
      "text/html": [
       "<div>\n",
       "<style scoped>\n",
       "    .dataframe tbody tr th:only-of-type {\n",
       "        vertical-align: middle;\n",
       "    }\n",
       "\n",
       "    .dataframe tbody tr th {\n",
       "        vertical-align: top;\n",
       "    }\n",
       "\n",
       "    .dataframe thead th {\n",
       "        text-align: right;\n",
       "    }\n",
       "</style>\n",
       "<table border=\"1\" class=\"dataframe\">\n",
       "  <thead>\n",
       "    <tr style=\"text-align: right;\">\n",
       "      <th></th>\n",
       "      <th>Date</th>\n",
       "      <th>PM25</th>\n",
       "      <th>Day Name</th>\n",
       "      <th>Week of Month</th>\n",
       "    </tr>\n",
       "  </thead>\n",
       "  <tbody>\n",
       "    <tr>\n",
       "      <th>0</th>\n",
       "      <td>2022-03-07</td>\n",
       "      <td>110</td>\n",
       "      <td>Monday</td>\n",
       "      <td>1</td>\n",
       "    </tr>\n",
       "    <tr>\n",
       "      <th>1</th>\n",
       "      <td>2022-04-04</td>\n",
       "      <td>120</td>\n",
       "      <td>Monday</td>\n",
       "      <td>1</td>\n",
       "    </tr>\n",
       "    <tr>\n",
       "      <th>2</th>\n",
       "      <td>2022-04-18</td>\n",
       "      <td>58</td>\n",
       "      <td>Monday</td>\n",
       "      <td>3</td>\n",
       "    </tr>\n",
       "    <tr>\n",
       "      <th>3</th>\n",
       "      <td>2022-05-02</td>\n",
       "      <td>107</td>\n",
       "      <td>Monday</td>\n",
       "      <td>1</td>\n",
       "    </tr>\n",
       "    <tr>\n",
       "      <th>4</th>\n",
       "      <td>2022-05-16</td>\n",
       "      <td>100</td>\n",
       "      <td>Monday</td>\n",
       "      <td>3</td>\n",
       "    </tr>\n",
       "    <tr>\n",
       "      <th>5</th>\n",
       "      <td>2022-05-30</td>\n",
       "      <td>86</td>\n",
       "      <td>Monday</td>\n",
       "      <td>5</td>\n",
       "    </tr>\n",
       "    <tr>\n",
       "      <th>6</th>\n",
       "      <td>2022-06-06</td>\n",
       "      <td>125</td>\n",
       "      <td>Monday</td>\n",
       "      <td>1</td>\n",
       "    </tr>\n",
       "    <tr>\n",
       "      <th>7</th>\n",
       "      <td>2022-07-04</td>\n",
       "      <td>151</td>\n",
       "      <td>Monday</td>\n",
       "      <td>1</td>\n",
       "    </tr>\n",
       "  </tbody>\n",
       "</table>\n",
       "</div>"
      ],
      "text/plain": [
       "        Date  PM25 Day Name  Week of Month\n",
       "0 2022-03-07   110   Monday              1\n",
       "1 2022-04-04   120   Monday              1\n",
       "2 2022-04-18    58   Monday              3\n",
       "3 2022-05-02   107   Monday              1\n",
       "4 2022-05-16   100   Monday              3\n",
       "5 2022-05-30    86   Monday              5\n",
       "6 2022-06-06   125   Monday              1\n",
       "7 2022-07-04   151   Monday              1"
      ]
     },
     "execution_count": 17,
     "metadata": {},
     "output_type": "execute_result"
    }
   ],
   "source": [
    "Monday_usual.head(8)"
   ]
  },
  {
   "cell_type": "markdown",
   "metadata": {
    "id": "zYc74F5V4Y8Z"
   },
   "source": [
    "## Saturdays"
   ]
  },
  {
   "cell_type": "code",
   "execution_count": 18,
   "metadata": {
    "colab": {
     "base_uri": "https://localhost:8080/",
     "height": 206
    },
    "executionInfo": {
     "elapsed": 6,
     "status": "ok",
     "timestamp": 1714561945418,
     "user": {
      "displayName": "Scovia Achan",
      "userId": "00318295193192808960"
     },
     "user_tz": -120
    },
    "id": "ouzCOhkv4hCa",
    "outputId": "2b2ce8de-4841-4570-ca51-c2774e93654b"
   },
   "outputs": [
    {
     "data": {
      "text/html": [
       "<div>\n",
       "<style scoped>\n",
       "    .dataframe tbody tr th:only-of-type {\n",
       "        vertical-align: middle;\n",
       "    }\n",
       "\n",
       "    .dataframe tbody tr th {\n",
       "        vertical-align: top;\n",
       "    }\n",
       "\n",
       "    .dataframe thead th {\n",
       "        text-align: right;\n",
       "    }\n",
       "</style>\n",
       "<table border=\"1\" class=\"dataframe\">\n",
       "  <thead>\n",
       "    <tr style=\"text-align: right;\">\n",
       "      <th></th>\n",
       "      <th>Date</th>\n",
       "      <th>PM25</th>\n",
       "      <th>Day Name</th>\n",
       "      <th>Week of Month</th>\n",
       "    </tr>\n",
       "  </thead>\n",
       "  <tbody>\n",
       "    <tr>\n",
       "      <th>0</th>\n",
       "      <td>2022-03-05</td>\n",
       "      <td>107</td>\n",
       "      <td>Saturday</td>\n",
       "      <td>1</td>\n",
       "    </tr>\n",
       "    <tr>\n",
       "      <th>1</th>\n",
       "      <td>2022-03-19</td>\n",
       "      <td>155</td>\n",
       "      <td>Saturday</td>\n",
       "      <td>3</td>\n",
       "    </tr>\n",
       "    <tr>\n",
       "      <th>2</th>\n",
       "      <td>2022-04-02</td>\n",
       "      <td>113</td>\n",
       "      <td>Saturday</td>\n",
       "      <td>1</td>\n",
       "    </tr>\n",
       "    <tr>\n",
       "      <th>3</th>\n",
       "      <td>2022-04-16</td>\n",
       "      <td>83</td>\n",
       "      <td>Saturday</td>\n",
       "      <td>3</td>\n",
       "    </tr>\n",
       "    <tr>\n",
       "      <th>4</th>\n",
       "      <td>2022-05-07</td>\n",
       "      <td>70</td>\n",
       "      <td>Saturday</td>\n",
       "      <td>1</td>\n",
       "    </tr>\n",
       "  </tbody>\n",
       "</table>\n",
       "</div>"
      ],
      "text/plain": [
       "        Date  PM25  Day Name  Week of Month\n",
       "0 2022-03-05   107  Saturday              1\n",
       "1 2022-03-19   155  Saturday              3\n",
       "2 2022-04-02   113  Saturday              1\n",
       "3 2022-04-16    83  Saturday              3\n",
       "4 2022-05-07    70  Saturday              1"
      ]
     },
     "execution_count": 18,
     "metadata": {},
     "output_type": "execute_result"
    }
   ],
   "source": [
    "# Saturdays before car free Sundays\n",
    "saturday_before = rwanda_data[(rwanda_data[\"Day Name\"] == \"Saturday\") & (rwanda_data[\"Week of Month\"] == 1) | (rwanda_data[\"Day Name\"] == \"Saturday\") & (rwanda_data[\"Week of Month\"] ==3)]\n",
    "\n",
    "saturday_before=saturday_before.reset_index(drop=True)\n",
    "saturday_before.head()"
   ]
  },
  {
   "cell_type": "code",
   "execution_count": 19,
   "metadata": {
    "colab": {
     "base_uri": "https://localhost:8080/",
     "height": 206
    },
    "executionInfo": {
     "elapsed": 8,
     "status": "ok",
     "timestamp": 1714561946048,
     "user": {
      "displayName": "Scovia Achan",
      "userId": "00318295193192808960"
     },
     "user_tz": -120
    },
    "id": "IZrJPdiT6L_s",
    "outputId": "62ef53ba-5189-46fb-ebfd-4d1985771896"
   },
   "outputs": [
    {
     "data": {
      "text/html": [
       "<div>\n",
       "<style scoped>\n",
       "    .dataframe tbody tr th:only-of-type {\n",
       "        vertical-align: middle;\n",
       "    }\n",
       "\n",
       "    .dataframe tbody tr th {\n",
       "        vertical-align: top;\n",
       "    }\n",
       "\n",
       "    .dataframe thead th {\n",
       "        text-align: right;\n",
       "    }\n",
       "</style>\n",
       "<table border=\"1\" class=\"dataframe\">\n",
       "  <thead>\n",
       "    <tr style=\"text-align: right;\">\n",
       "      <th></th>\n",
       "      <th>Date</th>\n",
       "      <th>PM25</th>\n",
       "      <th>Day Name</th>\n",
       "      <th>Week of Month</th>\n",
       "    </tr>\n",
       "  </thead>\n",
       "  <tbody>\n",
       "    <tr>\n",
       "      <th>0</th>\n",
       "      <td>2022-03-12</td>\n",
       "      <td>100</td>\n",
       "      <td>Saturday</td>\n",
       "      <td>2</td>\n",
       "    </tr>\n",
       "    <tr>\n",
       "      <th>1</th>\n",
       "      <td>2022-03-26</td>\n",
       "      <td>91</td>\n",
       "      <td>Saturday</td>\n",
       "      <td>4</td>\n",
       "    </tr>\n",
       "    <tr>\n",
       "      <th>2</th>\n",
       "      <td>2022-04-09</td>\n",
       "      <td>107</td>\n",
       "      <td>Saturday</td>\n",
       "      <td>2</td>\n",
       "    </tr>\n",
       "    <tr>\n",
       "      <th>3</th>\n",
       "      <td>2022-04-23</td>\n",
       "      <td>104</td>\n",
       "      <td>Saturday</td>\n",
       "      <td>4</td>\n",
       "    </tr>\n",
       "    <tr>\n",
       "      <th>4</th>\n",
       "      <td>2022-04-30</td>\n",
       "      <td>91</td>\n",
       "      <td>Saturday</td>\n",
       "      <td>5</td>\n",
       "    </tr>\n",
       "  </tbody>\n",
       "</table>\n",
       "</div>"
      ],
      "text/plain": [
       "        Date  PM25  Day Name  Week of Month\n",
       "0 2022-03-12   100  Saturday              2\n",
       "1 2022-03-26    91  Saturday              4\n",
       "2 2022-04-09   107  Saturday              2\n",
       "3 2022-04-23   104  Saturday              4\n",
       "4 2022-04-30    91  Saturday              5"
      ]
     },
     "execution_count": 19,
     "metadata": {},
     "output_type": "execute_result"
    }
   ],
   "source": [
    "# Saturdays after car free Sundays\n",
    "saturday_after = rwanda_data[(rwanda_data[\"Day Name\"] == \"Saturday\") & (rwanda_data[\"Week of Month\"] != 1) & (rwanda_data[\"Day Name\"] == \"Saturday\") & (rwanda_data[\"Week of Month\"] !=3)]\n",
    "\n",
    "saturday_after=saturday_after.reset_index(drop=True)\n",
    "saturday_after.head()"
   ]
  },
  {
   "cell_type": "code",
   "execution_count": 20,
   "metadata": {
    "colab": {
     "base_uri": "https://localhost:8080/",
     "height": 206
    },
    "executionInfo": {
     "elapsed": 8,
     "status": "ok",
     "timestamp": 1714561946524,
     "user": {
      "displayName": "Scovia Achan",
      "userId": "00318295193192808960"
     },
     "user_tz": -120
    },
    "id": "rwTNlxry5ZB7",
    "outputId": "dc61dfac-37c7-40c3-bbc0-2084e0a9fa8f"
   },
   "outputs": [
    {
     "data": {
      "text/html": [
       "<div>\n",
       "<style scoped>\n",
       "    .dataframe tbody tr th:only-of-type {\n",
       "        vertical-align: middle;\n",
       "    }\n",
       "\n",
       "    .dataframe tbody tr th {\n",
       "        vertical-align: top;\n",
       "    }\n",
       "\n",
       "    .dataframe thead th {\n",
       "        text-align: right;\n",
       "    }\n",
       "</style>\n",
       "<table border=\"1\" class=\"dataframe\">\n",
       "  <thead>\n",
       "    <tr style=\"text-align: right;\">\n",
       "      <th></th>\n",
       "      <th>Date</th>\n",
       "      <th>PM25</th>\n",
       "      <th>Day Name</th>\n",
       "      <th>Week of Month</th>\n",
       "    </tr>\n",
       "  </thead>\n",
       "  <tbody>\n",
       "    <tr>\n",
       "      <th>0</th>\n",
       "      <td>2022-03-12</td>\n",
       "      <td>100</td>\n",
       "      <td>Saturday</td>\n",
       "      <td>2</td>\n",
       "    </tr>\n",
       "    <tr>\n",
       "      <th>1</th>\n",
       "      <td>2022-03-26</td>\n",
       "      <td>91</td>\n",
       "      <td>Saturday</td>\n",
       "      <td>4</td>\n",
       "    </tr>\n",
       "    <tr>\n",
       "      <th>2</th>\n",
       "      <td>2022-04-09</td>\n",
       "      <td>107</td>\n",
       "      <td>Saturday</td>\n",
       "      <td>2</td>\n",
       "    </tr>\n",
       "    <tr>\n",
       "      <th>3</th>\n",
       "      <td>2022-04-23</td>\n",
       "      <td>104</td>\n",
       "      <td>Saturday</td>\n",
       "      <td>4</td>\n",
       "    </tr>\n",
       "    <tr>\n",
       "      <th>4</th>\n",
       "      <td>2022-04-30</td>\n",
       "      <td>91</td>\n",
       "      <td>Saturday</td>\n",
       "      <td>5</td>\n",
       "    </tr>\n",
       "  </tbody>\n",
       "</table>\n",
       "</div>"
      ],
      "text/plain": [
       "        Date  PM25  Day Name  Week of Month\n",
       "0 2022-03-12   100  Saturday              2\n",
       "1 2022-03-26    91  Saturday              4\n",
       "2 2022-04-09   107  Saturday              2\n",
       "3 2022-04-23   104  Saturday              4\n",
       "4 2022-04-30    91  Saturday              5"
      ]
     },
     "execution_count": 20,
     "metadata": {},
     "output_type": "execute_result"
    }
   ],
   "source": [
    "# Saturdays after car free Sundays\n",
    "saturday_car_free_data = rwanda_data[(rwanda_data[\"Day Name\"] == \"Saturday\") & (rwanda_data[\"Week of Month\"] != 1) & (rwanda_data[\"Day Name\"] == \"Saturday\") & (rwanda_data[\"Week of Month\"] !=3)]\n",
    "\n",
    "saturday_car_free_data=saturday_car_free_data.reset_index(drop=True)\n",
    "saturday_car_free_data.head()"
   ]
  },
  {
   "cell_type": "markdown",
   "metadata": {
    "id": "REASbKn83Qmn"
   },
   "source": [
    "### Statistical analysis"
   ]
  },
  {
   "cell_type": "code",
   "execution_count": 21,
   "metadata": {
    "colab": {
     "base_uri": "https://localhost:8080/"
    },
    "executionInfo": {
     "elapsed": 4,
     "status": "ok",
     "timestamp": 1714561947439,
     "user": {
      "displayName": "Scovia Achan",
      "userId": "00318295193192808960"
     },
     "user_tz": -120
    },
    "id": "CkdpfFuq1zLC",
    "outputId": "4dfd9546-c026-42b9-f250-0646f75944e2"
   },
   "outputs": [
    {
     "name": "stdout",
     "output_type": "stream",
     "text": [
      "Average emission on usual Mondays: 112.95121951219512\n"
     ]
    }
   ],
   "source": [
    "\n",
    "# average emission on usual Mondays\n",
    "average_emission_normal_mondays = Monday_usual[\"PM25\"].mean()\n",
    "print(f\"Average emission on usual Mondays: {average_emission_normal_mondays}\")"
   ]
  },
  {
   "cell_type": "code",
   "execution_count": 22,
   "metadata": {
    "colab": {
     "base_uri": "https://localhost:8080/"
    },
    "executionInfo": {
     "elapsed": 4,
     "status": "ok",
     "timestamp": 1714517636181,
     "user": {
      "displayName": "Scovia Achan",
      "userId": "00318295193192808960"
     },
     "user_tz": -120
    },
    "id": "Zm0IGLIe2X5o",
    "outputId": "9e3a774e-0583-492d-e140-018b5fac8961"
   },
   "outputs": [
    {
     "name": "stdout",
     "output_type": "stream",
     "text": [
      "Average emission on Mondays after carfree days: 109.925\n"
     ]
    }
   ],
   "source": [
    "# average emission on car free Mondays\n",
    "average_emission_carfree_mondays = Monday_data[\"PM25\"].mean()\n",
    "print(f\"Average emission on Mondays after carfree days: {average_emission_carfree_mondays}\")"
   ]
  },
  {
   "cell_type": "code",
   "execution_count": 23,
   "metadata": {
    "colab": {
     "base_uri": "https://localhost:8080/"
    },
    "executionInfo": {
     "elapsed": 2,
     "status": "ok",
     "timestamp": 1714517637186,
     "user": {
      "displayName": "Scovia Achan",
      "userId": "00318295193192808960"
     },
     "user_tz": -120
    },
    "id": "ZirldFas39eb",
    "outputId": "15263901-d739-4f32-a378-374128290c4b"
   },
   "outputs": [
    {
     "name": "stdout",
     "output_type": "stream",
     "text": [
      "Average emission on CAR FREE Sundays: 115.44736842105263\n"
     ]
    }
   ],
   "source": [
    "# average emission on car free sundays\n",
    "average_emission_carfree_sundays = carfree_sunday_data[\"PM25\"].mean()\n",
    "print(f\"Average emission on CAR FREE Sundays: {average_emission_carfree_sundays}\")"
   ]
  },
  {
   "cell_type": "code",
   "execution_count": 24,
   "metadata": {
    "colab": {
     "base_uri": "https://localhost:8080/"
    },
    "executionInfo": {
     "elapsed": 377,
     "status": "ok",
     "timestamp": 1714517638203,
     "user": {
      "displayName": "Scovia Achan",
      "userId": "00318295193192808960"
     },
     "user_tz": -120
    },
    "id": "9KHyn1lypEoH",
    "outputId": "b24ea0db-6a80-4e9d-c84c-50fadcbc9fb7"
   },
   "outputs": [
    {
     "name": "stdout",
     "output_type": "stream",
     "text": [
      "Average emission on carfree Sundays: 110.28888888888889\n"
     ]
    }
   ],
   "source": [
    "# average emission\n",
    "average_emission_non_carfree_sundays = sunday_data_non_carfree[\"PM25\"].mean()\n",
    "print(f\"Average emission on carfree Sundays: {average_emission_non_carfree_sundays}\")"
   ]
  },
  {
   "cell_type": "code",
   "execution_count": 25,
   "metadata": {
    "colab": {
     "base_uri": "https://localhost:8080/"
    },
    "executionInfo": {
     "elapsed": 4,
     "status": "ok",
     "timestamp": 1714517638724,
     "user": {
      "displayName": "Scovia Achan",
      "userId": "00318295193192808960"
     },
     "user_tz": -120
    },
    "id": "ywCtDm2T3l41",
    "outputId": "9dfbfdd5-efba-4593-eb90-be0ebc3882f2"
   },
   "outputs": [
    {
     "name": "stdout",
     "output_type": "stream",
     "text": [
      "Average emission on CAR FREE Sundays: 115.44736842105263\n"
     ]
    }
   ],
   "source": [
    "# average emission on regular sundays\n",
    "average_emission_carfree_sundays = carfree_sunday_data[\"PM25\"].mean()\n",
    "print(f\"Average emission on CAR FREE Sundays: {average_emission_carfree_sundays}\")"
   ]
  },
  {
   "cell_type": "code",
   "execution_count": 26,
   "metadata": {
    "colab": {
     "base_uri": "https://localhost:8080/"
    },
    "executionInfo": {
     "elapsed": 6,
     "status": "ok",
     "timestamp": 1714517639654,
     "user": {
      "displayName": "Scovia Achan",
      "userId": "00318295193192808960"
     },
     "user_tz": -120
    },
    "id": "bOO4t10I5uom",
    "outputId": "aa9f0903-9ca5-4e4a-de45-9a61712d2073"
   },
   "outputs": [
    {
     "name": "stdout",
     "output_type": "stream",
     "text": [
      "Average emission on saturday before CAR FREE Sundays: 116.1025641025641\n"
     ]
    }
   ],
   "source": [
    "# average emission on regular sundays\n",
    "average_emission_saturday_before = saturday_before[\"PM25\"].mean()\n",
    "print(f\"Average emission on saturday before CAR FREE Sundays: {average_emission_saturday_before}\")"
   ]
  },
  {
   "cell_type": "code",
   "execution_count": 27,
   "metadata": {
    "colab": {
     "base_uri": "https://localhost:8080/"
    },
    "executionInfo": {
     "elapsed": 405,
     "status": "ok",
     "timestamp": 1714517655405,
     "user": {
      "displayName": "Scovia Achan",
      "userId": "00318295193192808960"
     },
     "user_tz": -120
    },
    "id": "GV7qAaB56YrP",
    "outputId": "e9bed539-545a-48f5-b6db-a0cd5fb971c7"
   },
   "outputs": [
    {
     "name": "stdout",
     "output_type": "stream",
     "text": [
      "Average emission on saturday after CAR FREE Sundays: 119.15217391304348\n"
     ]
    }
   ],
   "source": [
    "# average emission on regular sundays\n",
    "average_emission_saturday_after = saturday_after[\"PM25\"].mean()\n",
    "print(f\"Average emission on saturday after CAR FREE Sundays: {average_emission_saturday_after}\")\n"
   ]
  },
  {
   "cell_type": "code",
   "execution_count": 28,
   "metadata": {},
   "outputs": [
    {
     "data": {
      "image/png": "[encoded data removed]",
      "text/plain": [
       "<Figure size 1000x600 with 1 Axes>"
      ]
     },
     "metadata": {},
     "output_type": "display_data"
    }
   ],
   "source": [
    "# Create the bar plot with a specific color\n",
    "plt.figure(figsize=(10, 6))\n",
    "bars = plt.bar(['Car-Free Sundays', 'Regular Sundays'], [average_emission_carfree_sundays, average_emission_non_carfree_sundays], color='mediumslateblue')  \n",
    "\n",
    "# Add labels, title, and legend\n",
    "plt.ylabel('Average PM2.5 Levels')\n",
    "plt.title('Average PM2.5 on Sundays in Kigali')\n",
    "\n",
    "# Adding text annotations on each bar\n",
    "for bar in bars:\n",
    "    yval = bar.get_height()  \n",
    "    plt.text(bar.get_x() + bar.get_width()/2, yval, round(yval, 2), ha='center', va='bottom')  \n",
    "\n",
    "# Show the plot\n",
    "plt.show()"
   ]
  },
  {
   "cell_type": "code",
   "execution_count": 29,
   "metadata": {
    "colab": {
     "base_uri": "https://localhost:8080/",
     "height": 452
    },
    "executionInfo": {
     "elapsed": 671,
     "status": "ok",
     "timestamp": 1714517659035,
     "user": {
      "displayName": "Scovia Achan",
      "userId": "00318295193192808960"
     },
     "user_tz": -120
    },
    "id": "JLOxT-W6zc7I",
    "outputId": "e870ec31-0cb3-4bf3-c2e6-9b8d62240f03"
   },
   "outputs": [
    {
     "data": {
      "image/png": "[encoded data removed]",
      "text/plain": [
       "<Figure size 640x480 with 1 Axes>"
      ]
     },
     "metadata": {},
     "output_type": "display_data"
    }
   ],
   "source": [
    "# plt.figure(figsize=(10, 6))\n",
    "bars = plt.bar(['Monday after car-free', 'Regular Mondays'], [average_emission_carfree_mondays, average_emission_normal_mondays], color = 'navy')\n",
    "for bar in bars:\n",
    "    yval = bar.get_height()  \n",
    "    plt.text(bar.get_x() + bar.get_width()/2, yval, round(yval, 2), ha='center', va='bottom')  \n",
    "\n",
    "\n",
    "# Add labels, title, and legend\n",
    "plt.ylabel('Average pm2.5 levels')\n",
    "plt.title('Average PM2.5 on Mondays')\n",
    "plt.show()"
   ]
  },
  {
   "cell_type": "code",
   "execution_count": 30,
   "metadata": {
    "colab": {
     "base_uri": "https://localhost:8080/",
     "height": 452
    },
    "executionInfo": {
     "elapsed": 705,
     "status": "ok",
     "timestamp": 1714517659738,
     "user": {
      "displayName": "Scovia Achan",
      "userId": "00318295193192808960"
     },
     "user_tz": -120
    },
    "id": "cQS3Gfit6pbS",
    "outputId": "c86f01e9-5fb7-4590-e14a-4a9e0403ed7d"
   },
   "outputs": [
    {
     "data": {
      "image/png": "[encoded data removed]",
      "text/plain": [
       "<Figure size 640x480 with 1 Axes>"
      ]
     },
     "metadata": {},
     "output_type": "display_data"
    }
   ],
   "source": [
    "# plt.figure(figsize=(10, 6))\n",
    "bars = plt.bar(['Saturday before car-free day', 'Mondays after Car-Free sundays'], [average_emission_saturday_before, average_emission_carfree_mondays],  color=['royalblue', 'navy'])\n",
    "\n",
    "# Add labels, title, and legend\n",
    "plt.ylabel('Average pm2.5 levels')\n",
    "# Adding text annotations on each bar\n",
    "for bar in bars:\n",
    "    yval = bar.get_height()  \n",
    "    plt.text(bar.get_x() + bar.get_width()/2, yval, round(yval, 2), ha='center', va='bottom')  \n",
    "\n",
    "plt.title('Average PM2.5 on Saturdays Before and Mondays after Car-free Sundays')\n",
    "plt.show()"
   ]
  },
  {
   "cell_type": "markdown",
   "metadata": {
    "id": "UD8PoolL4J7-"
   },
   "source": [
    "# Kampala, Uganda PM2.5 Analysis"
   ]
  },
  {
   "cell_type": "code",
   "execution_count": 31,
   "metadata": {
    "executionInfo": {
     "elapsed": 433,
     "status": "ok",
     "timestamp": 1714517660746,
     "user": {
      "displayName": "Scovia Achan",
      "userId": "00318295193192808960"
     },
     "user_tz": -120
    },
    "id": "PDTbd-s54OyB"
   },
   "outputs": [],
   "source": [
    "# Load data.\n",
    "\n",
    "file_path2 = \"kampala-us embassy-air-quality.csv\"\n",
    "\n",
    "kampala_data = pd.read_csv(file_path2, skipinitialspace=True)"
   ]
  },
  {
   "cell_type": "code",
   "execution_count": 32,
   "metadata": {
    "colab": {
     "base_uri": "https://localhost:8080/"
    },
    "executionInfo": {
     "elapsed": 5,
     "status": "ok",
     "timestamp": 1714517660747,
     "user": {
      "displayName": "Scovia Achan",
      "userId": "00318295193192808960"
     },
     "user_tz": -120
    },
    "id": "4I0BReY29rCy",
    "outputId": "81a77872-845f-4855-d11d-98f5da453b44"
   },
   "outputs": [
    {
     "data": {
      "text/plain": [
       "Index(['date', 'pm25'], dtype='object')"
      ]
     },
     "execution_count": 32,
     "metadata": {},
     "output_type": "execute_result"
    }
   ],
   "source": [
    "kampala_data.columns"
   ]
  },
  {
   "cell_type": "code",
   "execution_count": 33,
   "metadata": {
    "executionInfo": {
     "elapsed": 3,
     "status": "ok",
     "timestamp": 1714517662356,
     "user": {
      "displayName": "Scovia Achan",
      "userId": "00318295193192808960"
     },
     "user_tz": -120
    },
    "id": "SBkZ4A2E8Ind"
   },
   "outputs": [],
   "source": [
    "# convert date to datetime\n",
    "\n",
    "kampala_data[\"date\"] = pd.to_datetime(kampala_data[\"date\"])\n",
    "\n",
    "kampala_data = kampala_data.rename(columns={\"date\":\"Date\", \"pm25\":\"PM25\"})\n",
    "# sort data\n",
    "# kampala_data = kampala_data.sort_values(by=\"Date\")\n",
    "\n",
    "kampala_data  = kampala_data.reset_index(drop=True)"
   ]
  },
  {
   "cell_type": "code",
   "execution_count": 34,
   "metadata": {},
   "outputs": [],
   "source": [
    "nairobi_path = \"nairobi-us embassy-air-quality.csv\"\n",
    "\n",
    "nairobi_data = pd.read_csv(nairobi_path, skipinitialspace=True)\n",
    "\n",
    "# convert date to datetime\n",
    "nairobi_data[\"date\"] = pd.to_datetime(nairobi_data[\"date\"])\n",
    "nairobi_data = nairobi_data.rename(columns={\"date\":\"Date\", \"pm25\":\"PM25\"})"
   ]
  },
  {
   "cell_type": "code",
   "execution_count": 35,
   "metadata": {
    "colab": {
     "base_uri": "https://localhost:8080/",
     "height": 206
    },
    "executionInfo": {
     "elapsed": 6,
     "status": "ok",
     "timestamp": 1714517670772,
     "user": {
      "displayName": "Scovia Achan",
      "userId": "00318295193192808960"
     },
     "user_tz": -120
    },
    "id": "Rx393nnsMYOC",
    "outputId": "bad33c93-421f-459c-ba53-4f4e340a641d"
   },
   "outputs": [
    {
     "data": {
      "text/html": [
       "<div>\n",
       "<style scoped>\n",
       "    .dataframe tbody tr th:only-of-type {\n",
       "        vertical-align: middle;\n",
       "    }\n",
       "\n",
       "    .dataframe tbody tr th {\n",
       "        vertical-align: top;\n",
       "    }\n",
       "\n",
       "    .dataframe thead th {\n",
       "        text-align: right;\n",
       "    }\n",
       "</style>\n",
       "<table border=\"1\" class=\"dataframe\">\n",
       "  <thead>\n",
       "    <tr style=\"text-align: right;\">\n",
       "      <th></th>\n",
       "      <th>Date</th>\n",
       "      <th>PM25_Kigali</th>\n",
       "      <th>Day Name</th>\n",
       "      <th>Week of Month</th>\n",
       "      <th>PM25_Kampala</th>\n",
       "      <th>PM25_Nairobi</th>\n",
       "    </tr>\n",
       "  </thead>\n",
       "  <tbody>\n",
       "    <tr>\n",
       "      <th>0</th>\n",
       "      <td>2022-02-28</td>\n",
       "      <td>87</td>\n",
       "      <td>Monday</td>\n",
       "      <td>4</td>\n",
       "      <td>123</td>\n",
       "      <td>54</td>\n",
       "    </tr>\n",
       "    <tr>\n",
       "      <th>1</th>\n",
       "      <td>2022-03-01</td>\n",
       "      <td>97</td>\n",
       "      <td>Tuesday</td>\n",
       "      <td>1</td>\n",
       "      <td>125</td>\n",
       "      <td>51</td>\n",
       "    </tr>\n",
       "    <tr>\n",
       "      <th>2</th>\n",
       "      <td>2022-03-02</td>\n",
       "      <td>81</td>\n",
       "      <td>Wednesday</td>\n",
       "      <td>1</td>\n",
       "      <td>116</td>\n",
       "      <td>60</td>\n",
       "    </tr>\n",
       "    <tr>\n",
       "      <th>3</th>\n",
       "      <td>2022-03-03</td>\n",
       "      <td>105</td>\n",
       "      <td>Thursday</td>\n",
       "      <td>1</td>\n",
       "      <td>97</td>\n",
       "      <td>74</td>\n",
       "    </tr>\n",
       "    <tr>\n",
       "      <th>4</th>\n",
       "      <td>2022-03-04</td>\n",
       "      <td>112</td>\n",
       "      <td>Friday</td>\n",
       "      <td>1</td>\n",
       "      <td>96</td>\n",
       "      <td>75</td>\n",
       "    </tr>\n",
       "  </tbody>\n",
       "</table>\n",
       "</div>"
      ],
      "text/plain": [
       "        Date  PM25_Kigali   Day Name  Week of Month  PM25_Kampala  \\\n",
       "0 2022-02-28           87     Monday              4           123   \n",
       "1 2022-03-01           97    Tuesday              1           125   \n",
       "2 2022-03-02           81  Wednesday              1           116   \n",
       "3 2022-03-03          105   Thursday              1            97   \n",
       "4 2022-03-04          112     Friday              1            96   \n",
       "\n",
       "   PM25_Nairobi  \n",
       "0            54  \n",
       "1            51  \n",
       "2            60  \n",
       "3            74  \n",
       "4            75  "
      ]
     },
     "execution_count": 35,
     "metadata": {},
     "output_type": "execute_result"
    }
   ],
   "source": [
    "# merge all 3 data frames\n",
    "final_df = rwanda_data.merge(kampala_data, on=\"Date\", suffixes=(\"_Kigali\", \"_Kampala\")).merge(nairobi_data, on=\"Date\", suffixes=(\"\", \"_Nairobi\"))\n",
    "\n",
    "#final_df = rwanda_data.merge(kampala_data, suffixes=(\"_Kigali\", \"_Kampala\").merge(),on=\"Date\")\n",
    "final_df = final_df.rename(columns={\"PM25\":\"PM25_Nairobi\"})\n",
    "final_df.head()"
   ]
  },
  {
   "cell_type": "markdown",
   "metadata": {},
   "source": [
    "**Comparing KIgali's and Kampala's box plots**"
   ]
  },
  {
   "cell_type": "code",
   "execution_count": 36,
   "metadata": {},
   "outputs": [
    {
     "data": {
      "image/png": "[encoded data removed]",
      "text/plain": [
       "<Figure size 600x500 with 1 Axes>"
      ]
     },
     "metadata": {},
     "output_type": "display_data"
    }
   ],
   "source": [
    "# Melt the DataFrame to long format\n",
    "df_long = pd.melt(final_df, id_vars='Date', value_vars=['PM25_Kigali', 'PM25_Kampala'],\n",
    "                  var_name='City', value_name='PM25')\n",
    "\n",
    "colors = ['royalblue','teal']\n",
    "# Plotting the box plots\n",
    "plt.figure(figsize=(6, 5))\n",
    "sns.boxplot(x='City', y='PM25', data=df_long, palette=colors)\n",
    "plt.title('Box plot of PM25 Levels of Kampala and Kigali')\n",
    "\n",
    "plt.ylabel('PM2.5')\n",
    "plt.grid('--')\n",
    "plt.xlabel('City')\n",
    "plt.show()"
   ]
  },
  {
   "cell_type": "markdown",
   "metadata": {},
   "source": [
    "**Insights from box plots above**\n",
    "\n",
    "- Kampala has a higher median PM2.5 level than Kigali, which suggests that on a typical day, Kampala experiences higher air pollution. This might indicate more consistent exposure to pollutants, potentially due to factors like higher traffic volume, industrial activity.\n",
    "\n",
    "- Kigali, has a lower median, and it can be suspected that the interventions like car-free Sundays might be having a positive effect on reducing the median pollution levels.\n",
    "\n",
    " - It is also evident on Kampala's box plot that the city has some PM2.5 levels that can be considered to be outliers. These points exist at both the lower end and upper end of the plot."
   ]
  },
  {
   "cell_type": "markdown",
   "metadata": {},
   "source": [
    "**Comparing Kigali's and Kampala's histograms**"
   ]
  },
  {
   "cell_type": "code",
   "execution_count": 37,
   "metadata": {},
   "outputs": [
    {
     "data": {
      "image/png": "[encoded data removed]",
      "text/plain": [
       "<Figure size 1200x600 with 2 Axes>"
      ]
     },
     "metadata": {},
     "output_type": "display_data"
    }
   ],
   "source": [
    "\n",
    "# Set up the figure and subplots\n",
    "fig, axes = plt.subplots(1, 2, figsize=(12, 6))  # 1 row, 2 columns for subplots\n",
    "\n",
    "# Histogram for Kigali\n",
    "axes[0].hist(final_df['PM25_Kigali'], bins=20, color='royalblue', alpha=0.9, rwidth=0.9)\n",
    "axes[0].set_title('Histogram of PM2.5 in Kigali')\n",
    "axes[0].set_xlabel('PM2.5 Levels')\n",
    "axes[0].set_ylabel('Frequency')\n",
    "\n",
    "# Histogram for Kampala\n",
    "axes[1].hist(final_df['PM25_Kampala'], bins=20, color='teal', alpha=0.9, rwidth=0.9)\n",
    "axes[1].set_title('Histogram of PM2.5 in Kampala')\n",
    "axes[1].set_xlabel('PM2.5 Levels')\n",
    "axes[1].set_ylabel('Frequency')\n",
    "\n",
    "# Adjust layout to prevent overlap\n",
    "plt.tight_layout()\n",
    "\n",
    "# Show the plot\n",
    "plt.show()\n"
   ]
  },
  {
   "cell_type": "markdown",
   "metadata": {},
   "source": [
    "**Insights**\n",
    "\n",
    "- Kigali's PM2.5 levels range from about 40 to slightly above 160.\n",
    "\n",
    "- The PM2.5 levels in Kampala extend from about 40 to around 200. This is an indicator that Kampala experiences higher extremes of PM2.5 levels compared to Kigali.\n",
    "\n",
    "- Kampala's distribution is somehow right skewed. This implies the city experiences some extreme levels of PM2.5.\n",
    "\n",
    "- Kigali’s PM2.5  has multiple peaks, which implies a distribution influenced by various factors, making predictions about air quality more complex and uncertain. This is an important consideration for environmental management and planning, as more predictable distributions allow for better resource allocation and intervention planning.\n",
    "\n",
    "- On the hand, Kampala has a more pronounced central peak and less severe skewness, which makes it more predictable. The data clustering around a central range of 120-140 suggests more consistent conditions affecting PM2.5 levels"
   ]
  },
  {
   "cell_type": "markdown",
   "metadata": {
    "id": "pUIFWq_cy48h"
   },
   "source": [
    "### Time series plots"
   ]
  },
  {
   "cell_type": "code",
   "execution_count": 38,
   "metadata": {
    "colab": {
     "base_uri": "https://localhost:8080/",
     "height": 487
    },
    "executionInfo": {
     "elapsed": 947,
     "status": "ok",
     "timestamp": 1714517683955,
     "user": {
      "displayName": "Scovia Achan",
      "userId": "00318295193192808960"
     },
     "user_tz": -120
    },
    "id": "jY96TFhSy4dY",
    "outputId": "4c394336-543b-44bf-dd3b-91fbf215dd13"
   },
   "outputs": [
    {
     "data": {
      "image/png": "[encoded data removed]",
      "text/plain": [
       "<Figure size 640x480 with 1 Axes>"
      ]
     },
     "metadata": {},
     "output_type": "display_data"
    }
   ],
   "source": [
    "# plot 3 time series for monthly averages\n",
    "monthly_avg_kigali = final_df.groupby(final_df[\"Date\"].dt.to_period(\"M\"))[\"PM25_Kigali\"].mean()\n",
    "#monthly_avg_nairobi = final_df.groupby(final_df[\"Date\"].dt.to_period(\"M\"))[\"PM25_Nairobi\"].mean()\n",
    "monthly_avg_kampala = final_df.groupby(final_df[\"Date\"].dt.to_period(\"M\"))[\"PM25_Kampala\"].mean()\n",
    "\n",
    "# plot the averages\n",
    "plt.title('Times series of monthly PM2.5 levels Averages of Kigali and Kampala')\n",
    "monthly_avg_kigali.plot(kind=\"line\", label=\"Kigali\", color = 'royalblue')\n",
    "# monthly_avg_nairobi.plot(kind=\"line\", label=\"Nairobi\")\n",
    "monthly_avg_kampala.plot(kind=\"line\", label=\"Kampala\", color='olive')\n",
    "\n",
    "plt.ylabel(\"pm2.5 levels\")\n",
    "plt.legend()\n",
    "plt.tight_layout()\n",
    "plt.show()"
   ]
  },
  {
   "cell_type": "markdown",
   "metadata": {},
   "source": [
    "**Insights**\n",
    "\n",
    "- Kigali has more stability in PM2.5 levels compared to Kampala, with a gradual increase followed by a consistent decrease. In contrast, Kampala shows higher variability with two significant peaks in a year.\n",
    "\n",
    "- Both cities show the influence of seasonal changes on air quality, with pollution levels peaking around the middle of the year during drier conditions and declining towards the end as the rainy season sets in.\n",
    "\n",
    "- The data suggests Kigali might have more effective or consistent air quality management practices throughout the year compared to Kampala."
   ]
  },
  {
   "cell_type": "code",
   "execution_count": null,
   "metadata": {},
   "outputs": [],
   "source": []
  },
  {
   "cell_type": "markdown",
   "metadata": {
    "id": "QpUB1pW6FPkO"
   },
   "source": [
    "# Comparing car free sundays in Kigali and Kampala"
   ]
  },
  {
   "cell_type": "code",
   "execution_count": 39,
   "metadata": {
    "colab": {
     "base_uri": "https://localhost:8080/",
     "height": 206
    },
    "executionInfo": {
     "elapsed": 516,
     "status": "ok",
     "timestamp": 1714415001441,
     "user": {
      "displayName": "Scovia Achan",
      "userId": "00318295193192808960"
     },
     "user_tz": -120
    },
    "id": "dqZ0bx-8FXVL",
    "outputId": "855e6b64-5ea6-48f7-c121-cfa0ebc23e06"
   },
   "outputs": [
    {
     "data": {
      "text/html": [
       "<div>\n",
       "<style scoped>\n",
       "    .dataframe tbody tr th:only-of-type {\n",
       "        vertical-align: middle;\n",
       "    }\n",
       "\n",
       "    .dataframe tbody tr th {\n",
       "        vertical-align: top;\n",
       "    }\n",
       "\n",
       "    .dataframe thead th {\n",
       "        text-align: right;\n",
       "    }\n",
       "</style>\n",
       "<table border=\"1\" class=\"dataframe\">\n",
       "  <thead>\n",
       "    <tr style=\"text-align: right;\">\n",
       "      <th></th>\n",
       "      <th>Date</th>\n",
       "      <th>PM25_Kigali</th>\n",
       "      <th>Day Name</th>\n",
       "      <th>Week of Month</th>\n",
       "      <th>PM25_Kampala</th>\n",
       "      <th>PM25_Nairobi</th>\n",
       "    </tr>\n",
       "  </thead>\n",
       "  <tbody>\n",
       "    <tr>\n",
       "      <th>0</th>\n",
       "      <td>2022-03-06</td>\n",
       "      <td>110</td>\n",
       "      <td>Sunday</td>\n",
       "      <td>1</td>\n",
       "      <td>110</td>\n",
       "      <td>76</td>\n",
       "    </tr>\n",
       "    <tr>\n",
       "      <th>1</th>\n",
       "      <td>2022-03-20</td>\n",
       "      <td>154</td>\n",
       "      <td>Sunday</td>\n",
       "      <td>3</td>\n",
       "      <td>124</td>\n",
       "      <td>57</td>\n",
       "    </tr>\n",
       "    <tr>\n",
       "      <th>2</th>\n",
       "      <td>2022-04-03</td>\n",
       "      <td>98</td>\n",
       "      <td>Sunday</td>\n",
       "      <td>1</td>\n",
       "      <td>95</td>\n",
       "      <td>59</td>\n",
       "    </tr>\n",
       "    <tr>\n",
       "      <th>3</th>\n",
       "      <td>2022-04-17</td>\n",
       "      <td>95</td>\n",
       "      <td>Sunday</td>\n",
       "      <td>3</td>\n",
       "      <td>113</td>\n",
       "      <td>32</td>\n",
       "    </tr>\n",
       "    <tr>\n",
       "      <th>4</th>\n",
       "      <td>2022-05-15</td>\n",
       "      <td>88</td>\n",
       "      <td>Sunday</td>\n",
       "      <td>3</td>\n",
       "      <td>106</td>\n",
       "      <td>52</td>\n",
       "    </tr>\n",
       "  </tbody>\n",
       "</table>\n",
       "</div>"
      ],
      "text/plain": [
       "        Date  PM25_Kigali Day Name  Week of Month  PM25_Kampala  PM25_Nairobi\n",
       "0 2022-03-06          110   Sunday              1           110            76\n",
       "1 2022-03-20          154   Sunday              3           124            57\n",
       "2 2022-04-03           98   Sunday              1            95            59\n",
       "3 2022-04-17           95   Sunday              3           113            32\n",
       "4 2022-05-15           88   Sunday              3           106            52"
      ]
     },
     "execution_count": 39,
     "metadata": {},
     "output_type": "execute_result"
    }
   ],
   "source": [
    "# first and 3rd sundays\n",
    "carfree_sunday_kampala = final_df[(final_df[\"Day Name\"] == \"Sunday\") & (final_df[\"Week of Month\"]==1) | (final_df[\"Day Name\"] == \"Sunday\") & (final_df[\"Week of Month\"]==3)]\n",
    "\n",
    "carfree_sunday_kampala = carfree_sunday_kampala.reset_index(drop=True)\n",
    "carfree_sunday_kampala.head()"
   ]
  },
  {
   "cell_type": "code",
   "execution_count": 40,
   "metadata": {},
   "outputs": [],
   "source": [
    "#Average values of PM2.5 for Kampala\n",
    "average_pm25_kampala = carfree_sunday_kampala ['PM25_Kampala'].mean()"
   ]
  },
  {
   "cell_type": "code",
   "execution_count": 41,
   "metadata": {},
   "outputs": [
    {
     "data": {
      "image/png": "[encoded data removed]",
      "text/plain": [
       "<Figure size 800x500 with 1 Axes>"
      ]
     },
     "metadata": {},
     "output_type": "display_data"
    }
   ],
   "source": [
    "\n",
    "cities = ['Kigali', 'Kampala']\n",
    "values =  [average_emission_carfree_sundays, average_pm25_kampala]\n",
    "colors = ['#1f77b4', 'teal']  # Example colors\n",
    "\n",
    "plt.figure(figsize=(8, 5))\n",
    "bars = plt.bar(cities, values, color=colors)\n",
    "\n",
    "# Add text annotations\n",
    "for bar in bars:\n",
    "    yval = bar.get_height()\n",
    "    plt.text(bar.get_x() + bar.get_width()/2, yval, f'{yval:.2f}', va='bottom', ha='center')\n",
    "\n",
    "# Enhance aesthetics\n",
    "plt.ylabel('PM2.5 Levels (µg/m³)')\n",
    "plt.title('Comparison of PM2.5 Levels on Car-Free Sundays in KIgali and Kampala')\n",
    "plt.ylim(0, 140)  # Adjust scale for better fit of annotations\n",
    "\n",
    "plt.show()\n"
   ]
  },
  {
   "cell_type": "code",
   "execution_count": null,
   "metadata": {},
   "outputs": [],
   "source": []
  },
  {
   "cell_type": "code",
   "execution_count": null,
   "metadata": {},
   "outputs": [],
   "source": []
  },
  {
   "cell_type": "code",
   "execution_count": null,
   "metadata": {},
   "outputs": [],
   "source": []
  },
  {
   "cell_type": "code",
   "execution_count": null,
   "metadata": {},
   "outputs": [],
   "source": []
  },
  {
   "cell_type": "markdown",
   "metadata": {},
   "source": [
    "**Comparing mondays after Car free sundays in KIgali and respective mondays in Kampala**"
   ]
  },
  {
   "cell_type": "code",
   "execution_count": 42,
   "metadata": {},
   "outputs": [
    {
     "data": {
      "text/html": [
       "<div>\n",
       "<style scoped>\n",
       "    .dataframe tbody tr th:only-of-type {\n",
       "        vertical-align: middle;\n",
       "    }\n",
       "\n",
       "    .dataframe tbody tr th {\n",
       "        vertical-align: top;\n",
       "    }\n",
       "\n",
       "    .dataframe thead th {\n",
       "        text-align: right;\n",
       "    }\n",
       "</style>\n",
       "<table border=\"1\" class=\"dataframe\">\n",
       "  <thead>\n",
       "    <tr style=\"text-align: right;\">\n",
       "      <th></th>\n",
       "      <th>Date</th>\n",
       "      <th>PM25_Kigali</th>\n",
       "      <th>Day Name</th>\n",
       "      <th>Week of Month</th>\n",
       "      <th>PM25_Kampala</th>\n",
       "      <th>PM25_Nairobi</th>\n",
       "    </tr>\n",
       "  </thead>\n",
       "  <tbody>\n",
       "    <tr>\n",
       "      <th>0</th>\n",
       "      <td>2022-02-28</td>\n",
       "      <td>87</td>\n",
       "      <td>Monday</td>\n",
       "      <td>4</td>\n",
       "      <td>123</td>\n",
       "      <td>54</td>\n",
       "    </tr>\n",
       "    <tr>\n",
       "      <th>1</th>\n",
       "      <td>2022-03-14</td>\n",
       "      <td>113</td>\n",
       "      <td>Monday</td>\n",
       "      <td>2</td>\n",
       "      <td>118</td>\n",
       "      <td>88</td>\n",
       "    </tr>\n",
       "  </tbody>\n",
       "</table>\n",
       "</div>"
      ],
      "text/plain": [
       "        Date  PM25_Kigali Day Name  Week of Month  PM25_Kampala  PM25_Nairobi\n",
       "0 2022-02-28           87   Monday              4           123            54\n",
       "1 2022-03-14          113   Monday              2           118            88"
      ]
     },
     "execution_count": 42,
     "metadata": {},
     "output_type": "execute_result"
    }
   ],
   "source": [
    "#Retrieve monday data fro Kampala that correspond to the mondays after car free sundays in Kigali\n",
    "kampala_monday_data =final_df[(final_df[\"Day Name\"] == \"Monday\") & (final_df[\"Week of Month\"] ==2) | (final_df[\"Day Name\"] == \"Monday\") & (final_df[\"Week of Month\"] ==4)]\n",
    "\n",
    "kampala_monday_data = kampala_monday_data.reset_index(drop=True)\n",
    "kampala_monday_data.head(2)"
   ]
  },
  {
   "cell_type": "code",
   "execution_count": 43,
   "metadata": {},
   "outputs": [
    {
     "data": {
      "image/png": "[encoded data removed]",
      "text/plain": [
       "<Figure size 800x500 with 1 Axes>"
      ]
     },
     "metadata": {},
     "output_type": "display_data"
    }
   ],
   "source": [
    "average_pm25_kampala_mondays = kampala_monday_data['PM25_Kampala'].mean()\n",
    "\n",
    "cities = ['Kigali', 'Kampala']\n",
    "values =  [average_emission_carfree_mondays,average_pm25_kampala_mondays]\n",
    "colors = ['#1f77b4', 'teal']  # Example colors\n",
    "\n",
    "plt.figure(figsize=(8, 5))\n",
    "bars = plt.bar(cities, values, color=colors)\n",
    "\n",
    "# Add text annotations\n",
    "for bar in bars:\n",
    "    yval = bar.get_height()\n",
    "    plt.text(bar.get_x() + bar.get_width()/2, yval, f'{yval:.2f}', va='bottom', ha='center')\n",
    "\n",
    "# Enhance aesthetics\n",
    "plt.ylabel('PM2.5 Levels (µg/m³)')\n",
    "plt.title('Comparison of PM2.5 Levels on Mondays After Car-Free Sundays')\n",
    "plt.ylim(0, 140)  # Adjust scale for better fit of annotations\n",
    "\n",
    "plt.show()\n"
   ]
  },
  {
   "cell_type": "code",
   "execution_count": 44,
   "metadata": {},
   "outputs": [
    {
     "data": {
      "image/png": "[encoded data removed]",
      "text/plain": [
       "<Figure size 1000x600 with 1 Axes>"
      ]
     },
     "metadata": {},
     "output_type": "display_data"
    }
   ],
   "source": [
    "# Define cities and their corresponding values for Sundays and Mondays\n",
    "cities = ['Kigali - Sunday', 'Kampala - Sunday', 'Kigali - Monday', 'Kampala - Monday']\n",
    "values = [average_emission_carfree_sundays, average_pm25_kampala, average_emission_carfree_mondays, average_pm25_kampala_mondays]\n",
    "colors = ['#1f77b4', 'teal', 'navy', '#2ca02c']  # Different colors for each bar\n",
    "\n",
    "# Create the bar plot\n",
    "plt.figure(figsize=(10, 6))\n",
    "bars = plt.bar(cities, values, color=colors)\n",
    "\n",
    "# Add text annotations on each bar\n",
    "for bar in bars:\n",
    "    yval = bar.get_height()\n",
    "    plt.text(bar.get_x() + bar.get_width()/2, yval, f'{yval:.3f}', va='bottom', ha='center')\n",
    "\n",
    "# Enhance aesthetics\n",
    "plt.ylabel('PM2.5 Levels (µg/m³)')\n",
    "plt.title('Comparison of PM2.5 Levels on Sundays and Mondays in Kigali and Kampala')\n",
    "plt.ylim(0, 140)  # Adjust scale for better fit of annotations\n",
    "\n",
    "\n",
    "\n",
    "plt.show()"
   ]
  },
  {
   "cell_type": "code",
   "execution_count": null,
   "metadata": {},
   "outputs": [],
   "source": []
  },
  {
   "cell_type": "code",
   "execution_count": null,
   "metadata": {},
   "outputs": [],
   "source": []
  },
  {
   "cell_type": "markdown",
   "metadata": {
    "id": "lGepW6izYzS1"
   },
   "source": [
    "\n",
    "**Particulate Matter (PM2.5 and PM10)**\n",
    "\n",
    "AQI_PM25 = [(IHI - ILO) / (BPHI - BPLO)] x (Cp - BPLO) + ILO\n",
    "\n",
    "Where:\n",
    "\n",
    "*   AQI_PM25 is the AQI for PM2.5\n",
    "\n",
    "*  IHI is the AQI value corresponding to the upper boundary of the AQI category\n",
    "*  ILO is the AQI value corresponding to the lower boundary of the AQI category\n",
    "*  BPHI is the concentration value corresponding to the upper boundary of the  \n",
    "AQI category\n",
    "* BPLO is the concentration value corresponding to the lower boundary of the AQI category\n",
    "* Cp is the actual concentration of PM2.5 in µg/m³"
   ]
  },
  {
   "cell_type": "code",
   "execution_count": null,
   "metadata": {},
   "outputs": [],
   "source": []
  },
  {
   "cell_type": "markdown",
   "metadata": {},
   "source": [
    "**Statistical Hypothesis Testing**\n",
    "\n",
    "- The null hypothesis is that the the mean of Kigali's PM2.5 levels is equal to the mean of Kampala's PM2.5 levels for the observed period.\n",
    "\n",
    "- The alternative hypothesis is that the two means are not equal."
   ]
  },
  {
   "cell_type": "code",
   "execution_count": 45,
   "metadata": {},
   "outputs": [
    {
     "name": "stdout",
     "output_type": "stream",
     "text": [
      "The p-value of 0.15490695591768958 is greater than 0.05, therefore we fail to reject the null hypothesis.\n",
      "\n",
      "This implies that there is no significance difference between the mean of Kigali's PM2.5 levels \n",
      "and the mean of Kampala's PM2.5 levels.\n"
     ]
    }
   ],
   "source": [
    "t_stat, p_value = ttest_ind(final_df['PM25_Kampala'], final_df['PM25_Kigali'])\n",
    "\n",
    "if p_value <=0.05:\n",
    "    print(f'The p-value of {p_value} is less than 0.05, \\n therefore the null hypothesis is rejected')\n",
    "    \n",
    "else:\n",
    "    print(f'The p-value of {p_value} is greater than 0.05, therefore we fail to reject the null hypothesis.\\n\\nThis implies that there is no significance difference between the mean of Kigali\\'s PM2.5 levels \\nand the mean of Kampala\\'s PM2.5 levels.')\n"
   ]
  },
  {
   "cell_type": "code",
   "execution_count": null,
   "metadata": {},
   "outputs": [],
   "source": []
  }
 ],
 "metadata": {
  "colab": {
   "authorship_tag": "ABX9TyM2SUJzygUutt/t2ETyvJly",
   "provenance": [
    {
     "file_id": "1d2oepTu1onE-frDCyNNHQw_UkZr2w-nk",
     "timestamp": 1714561956388
    }
   ]
  },
  "kernelspec": {
   "display_name": "Python 3 (ipykernel)",
   "language": "python",
   "name": "python3"
  },
  "language_info": {
   "codemirror_mode": {
    "name": "ipython",
    "version": 3
   },
   "file_extension": ".py",
   "mimetype": "text/x-python",
   "name": "python",
   "nbconvert_exporter": "python",
   "pygments_lexer": "ipython3",
   "version": "3.11.4"
  }
 },
 "nbformat": 4,
 "nbformat_minor": 1
}
